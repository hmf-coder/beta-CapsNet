{
 "cells": [
  {
   "cell_type": "code",
   "execution_count": 1,
   "id": "economic-deputy",
   "metadata": {},
   "outputs": [
    {
     "ename": "RuntimeError",
     "evalue": "Error(s) in loading state_dict for CapsNetWithReconstruction:\n\tsize mismatch for capsnet.digitCaps.weights: copying a param with shape torch.Size([576, 8, 12]) from checkpoint, the shape in current model is torch.Size([576, 8, 80]).\n\tsize mismatch for capsnet.digitCaps.routing_module.b: copying a param with shape torch.Size([576, 1]) from checkpoint, the shape in current model is torch.Size([576, 10]).\n\tsize mismatch for reconstruction_net.fc1.weight: copying a param with shape torch.Size([512, 12]) from checkpoint, the shape in current model is torch.Size([512, 8]).",
     "output_type": "error",
     "traceback": [
      "\u001b[1;31m---------------------------------------------------------------------------\u001b[0m",
      "\u001b[1;31mRuntimeError\u001b[0m                              Traceback (most recent call last)",
      "\u001b[1;32m<ipython-input-1-de697a4b4a55>\u001b[0m in \u001b[0;36m<module>\u001b[1;34m\u001b[0m\n\u001b[0;32m     25\u001b[0m \u001b[1;33m\u001b[0m\u001b[0m\n\u001b[0;32m     26\u001b[0m \u001b[0mMODEL_PATH\u001b[0m \u001b[1;33m=\u001b[0m \u001b[1;34mr'trained_model\\MNIST_99epoch_dim12_kl0.5_rec0.0117_kl0.0028.pth'\u001b[0m\u001b[1;33m\u001b[0m\u001b[1;33m\u001b[0m\u001b[0m\n\u001b[1;32m---> 27\u001b[1;33m \u001b[0mmodel\u001b[0m\u001b[1;33m.\u001b[0m\u001b[0mload_state_dict\u001b[0m\u001b[1;33m(\u001b[0m\u001b[0mtorch\u001b[0m\u001b[1;33m.\u001b[0m\u001b[0mload\u001b[0m\u001b[1;33m(\u001b[0m\u001b[0mMODEL_PATH\u001b[0m\u001b[1;33m)\u001b[0m\u001b[1;33m)\u001b[0m\u001b[1;33m\u001b[0m\u001b[1;33m\u001b[0m\u001b[0m\n\u001b[0m",
      "\u001b[1;32m~\\Miniconda3\\lib\\site-packages\\torch\\nn\\modules\\module.py\u001b[0m in \u001b[0;36mload_state_dict\u001b[1;34m(self, state_dict, strict)\u001b[0m\n\u001b[0;32m   1222\u001b[0m         \u001b[1;32mif\u001b[0m \u001b[0mlen\u001b[0m\u001b[1;33m(\u001b[0m\u001b[0merror_msgs\u001b[0m\u001b[1;33m)\u001b[0m \u001b[1;33m>\u001b[0m \u001b[1;36m0\u001b[0m\u001b[1;33m:\u001b[0m\u001b[1;33m\u001b[0m\u001b[1;33m\u001b[0m\u001b[0m\n\u001b[0;32m   1223\u001b[0m             raise RuntimeError('Error(s) in loading state_dict for {}:\\n\\t{}'.format(\n\u001b[1;32m-> 1224\u001b[1;33m                                self.__class__.__name__, \"\\n\\t\".join(error_msgs)))\n\u001b[0m\u001b[0;32m   1225\u001b[0m         \u001b[1;32mreturn\u001b[0m \u001b[0m_IncompatibleKeys\u001b[0m\u001b[1;33m(\u001b[0m\u001b[0mmissing_keys\u001b[0m\u001b[1;33m,\u001b[0m \u001b[0munexpected_keys\u001b[0m\u001b[1;33m)\u001b[0m\u001b[1;33m\u001b[0m\u001b[1;33m\u001b[0m\u001b[0m\n\u001b[0;32m   1226\u001b[0m \u001b[1;33m\u001b[0m\u001b[0m\n",
      "\u001b[1;31mRuntimeError\u001b[0m: Error(s) in loading state_dict for CapsNetWithReconstruction:\n\tsize mismatch for capsnet.digitCaps.weights: copying a param with shape torch.Size([576, 8, 12]) from checkpoint, the shape in current model is torch.Size([576, 8, 80]).\n\tsize mismatch for capsnet.digitCaps.routing_module.b: copying a param with shape torch.Size([576, 1]) from checkpoint, the shape in current model is torch.Size([576, 10]).\n\tsize mismatch for reconstruction_net.fc1.weight: copying a param with shape torch.Size([512, 12]) from checkpoint, the shape in current model is torch.Size([512, 8])."
     ]
    }
   ],
   "source": [
    "import torch\n",
    "from torch.autograd import Variable\n",
    "from torchvision import datasets, transforms\n",
    "from torch.utils.data import Dataset, DataLoader\n",
    "from torchvision.transforms import ToTensor\n",
    "from net import CapsNetWithReconstruction, CapsNet, ReconstructionNet, Mask\n",
    "import numpy as np\n",
    "from scipy import stats\n",
    "from torchvision.utils import make_grid, save_image\n",
    "\n",
    "def get_digit_caps(model, image):\n",
    "    input_ = Variable(image.unsqueeze(0), volatile=True)\n",
    "    digit_caps, probs = model.capsnet(input_)\n",
    "    return digit_caps\n",
    "\n",
    "def get_mask(model, digit_caps, label):\n",
    "    target = Variable(torch.LongTensor([label]), volatile=True)\n",
    "    digit_caps_mask = model.mask(digit_caps, target)\n",
    "    return digit_caps_mask\n",
    "\n",
    "capsnet = CapsNet(routing_iterations=3, n_classes=10, capsuleblock=16, n_dim=8)\n",
    "mask = Mask(10)\n",
    "reconstructionnet = ReconstructionNet(n_dim=8, n_classes=10)\n",
    "model = CapsNetWithReconstruction(capsnet, mask, reconstructionnet)\n",
    "\n",
    "MODEL_PATH = r'trained_model\\MNIST_99epoch_dim12_kl0.5_rec0.0117_kl0.0028.pth'\n",
    "model.load_state_dict(torch.load(MODEL_PATH))"
   ]
  },
  {
   "cell_type": "code",
   "execution_count": null,
   "id": "disturbed-minority",
   "metadata": {
    "scrolled": false
   },
   "outputs": [],
   "source": [
    "test_data = datasets.MNIST('../data', train=False,\n",
    "                            transform=ToTensor())\n",
    "i = 0\n",
    "image_tensor, label = test_data[i]\n",
    "digit_caps = get_digit_caps(model, image_tensor)\n",
    "digit_caps_mask = get_mask(model, digit_caps, label)\n",
    "std = digit_caps_mask\n",
    "\n",
    "for i in range(1,1000):\n",
    "    image_tensor, label = test_data[i]\n",
    "    digit_caps = get_digit_caps(model, image_tensor)\n",
    "    digit_caps_mask = get_mask(model, digit_caps, label)\n",
    "    std = torch.cat([std, digit_caps_mask], 0)"
   ]
  },
  {
   "cell_type": "code",
   "execution_count": null,
   "id": "attempted-chicken",
   "metadata": {},
   "outputs": [],
   "source": [
    "std.std(dim=0)"
   ]
  },
  {
   "cell_type": "code",
   "execution_count": null,
   "id": "copyrighted-turkey",
   "metadata": {},
   "outputs": [],
   "source": [
    "std.std(dim=0).mean()"
   ]
  },
  {
   "cell_type": "code",
   "execution_count": null,
   "id": "rational-house",
   "metadata": {},
   "outputs": [],
   "source": []
  }
 ],
 "metadata": {
  "kernelspec": {
   "display_name": "Python [conda env:root] *",
   "language": "python",
   "name": "conda-root-py"
  },
  "language_info": {
   "codemirror_mode": {
    "name": "ipython",
    "version": 3
   },
   "file_extension": ".py",
   "mimetype": "text/x-python",
   "name": "python",
   "nbconvert_exporter": "python",
   "pygments_lexer": "ipython3",
   "version": "3.6.9"
  }
 },
 "nbformat": 4,
 "nbformat_minor": 5
}
